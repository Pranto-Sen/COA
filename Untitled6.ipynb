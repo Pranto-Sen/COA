{
 "cells": [
  {
   "cell_type": "code",
   "execution_count": 7,
   "id": "c62b6c9a",
   "metadata": {},
   "outputs": [
    {
     "name": "stdout",
     "output_type": "stream",
     "text": [
      "WA\n",
      "Q\n",
      "SA\n",
      "assigned: {'SA': 'R'}\n",
      "rv: {'WA': ['G', 'B'], 'Q': ['G', 'B'], 'T': ['R', 'G', 'B'], 'V': ['G', 'B'], 'NT': ['G', 'B'], 'NSW': ['G', 'B']}\n",
      "WA\n",
      "Q\n",
      "assigned: {'SA': 'R', 'Q': 'G'}\n",
      "rv: {'WA': ['G', 'B'], 'T': ['R', 'G', 'B'], 'V': ['G', 'B'], 'NT': ['B'], 'NSW': ['B']}\n",
      "WA\n",
      "NT\n",
      "assigned: {'SA': 'R', 'Q': 'G', 'NT': 'B'}\n",
      "rv: {'WA': ['G'], 'T': ['R', 'G', 'B'], 'V': ['G', 'B'], 'NSW': ['B']}\n",
      "WA\n",
      "NSW\n",
      "assigned: {'SA': 'R', 'Q': 'G', 'NT': 'B', 'NSW': 'B'}\n",
      "rv: {'WA': ['G'], 'T': ['R', 'G', 'B'], 'V': ['G']}\n",
      "WA\n",
      "assigned: {'SA': 'R', 'Q': 'G', 'NT': 'B', 'NSW': 'B', 'WA': 'G'}\n",
      "rv: {'T': ['R', 'G', 'B'], 'V': ['G']}\n",
      "T\n",
      "V\n",
      "assigned: {'SA': 'R', 'Q': 'G', 'NT': 'B', 'NSW': 'B', 'WA': 'G', 'V': 'G'}\n",
      "rv: {'T': ['R', 'G', 'B']}\n",
      "T\n",
      "assigned: {'SA': 'R', 'Q': 'G', 'NT': 'B', 'NSW': 'B', 'WA': 'G', 'V': 'G', 'T': 'B'}\n",
      "rv: {}\n"
     ]
    }
   ],
   "source": [
    "# Define a new cgraph\n",
    "cgraph = {'WA': ['SA', 'NT'], \n",
    "          'Q': ['SA', 'NT', 'NSW'], \n",
    "          'T': [],\n",
    "          'V': ['SA', 'NSW'], \n",
    "          'SA': ['WA', 'NT', 'Q', 'NSW','V'], \n",
    "          'NT': ['Q', 'WA', 'SA'], \n",
    "          'NSW': ['Q', 'V', 'SA']}\n",
    "import random\n",
    "def get_color(node, rv, cg):\n",
    "    # CODE\n",
    "    # check rv[node] is empty or not when no color availabe\n",
    "    # return 'no color'\n",
    "#     print(node)\n",
    "    color = random.choice(rv[node])\n",
    "    rv.pop(node)\n",
    "    # update remaining values for neihbouring node\n",
    "    adjList = cg[node]\n",
    "    for adj in adjList:\n",
    "        if adj in rv.keys():\n",
    "            rv[adj].remove(color)\n",
    "    #print(adjList)\n",
    "    return color\n",
    "# write a method to get the highest degree node\n",
    "def get_hdnode(cg, solved):\n",
    "    mnode = ''\n",
    "    degree = -1\n",
    "    for k in cg.keys():\n",
    "        if len(cg[k])  > degree and k not in solved.keys():\n",
    "            #print(k)\n",
    "            degree = len(cg[k])\n",
    "            mnode = k\n",
    "            print(k)\n",
    "    return mnode\n",
    "assigned = {} # store assigned variables with colors\n",
    "remainingValues = {'WA': ['R','G','B'], \n",
    "                    'Q': ['R','G','B'],\n",
    "                    'T': ['R','G','B'],\n",
    "                    'V':  ['R','G','B'], \n",
    "                    'NT': ['R','G','B'],\n",
    "                    'SA': ['R','G','B'],                    \n",
    "                    'NSW': ['R','G','B']}\n",
    "\n",
    "for i in range(len(cgraph)):\n",
    "    # assign color to the highest degree node\n",
    "    hdNode = get_hdnode(cgraph, assigned)\n",
    "    color = get_color(hdNode, remainingValues, cgraph)\n",
    "    # CODE\n",
    "    # check if 'no color' is returned\n",
    "    # print failure\n",
    "\n",
    "    assigned[hdNode]= color\n",
    "    print('assigned: ', end=\"\")\n",
    "    print(assigned)\n",
    "    print('rv: ', end=\"\")\n",
    "    print(remainingValues)"
   ]
  },
  {
   "cell_type": "code",
   "execution_count": null,
   "id": "68f512c5",
   "metadata": {},
   "outputs": [],
   "source": [
    "this is the output of graph problem of ai course"
   ]
  }
 ],
 "metadata": {
  "kernelspec": {
   "display_name": "Python 3 (ipykernel)",
   "language": "python",
   "name": "python3"
  },
  "language_info": {
   "codemirror_mode": {
    "name": "ipython",
    "version": 3
   },
   "file_extension": ".py",
   "mimetype": "text/x-python",
   "name": "python",
   "nbconvert_exporter": "python",
   "pygments_lexer": "ipython3",
   "version": "3.9.12"
  }
 },
 "nbformat": 4,
 "nbformat_minor": 5
}
